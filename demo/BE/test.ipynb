{
 "cells": [
  {
   "cell_type": "code",
   "execution_count": 1,
   "metadata": {},
   "outputs": [
    {
     "name": "stderr",
     "output_type": "stream",
     "text": [
      "/home/erwin/.local/lib/python3.10/site-packages/tqdm/auto.py:21: TqdmWarning: IProgress not found. Please update jupyter and ipywidgets. See https://ipywidgets.readthedocs.io/en/stable/user_install.html\n",
      "  from .autonotebook import tqdm as notebook_tqdm\n"
     ]
    }
   ],
   "source": [
    "# Import Libraries\n",
    "from transformers import DistilBertForSequenceClassification, DistilBertConfig, DistilBertTokenizer\n",
    "import torch\n",
    "import os"
   ]
  },
  {
   "cell_type": "code",
   "execution_count": 2,
   "metadata": {},
   "outputs": [
    {
     "name": "stderr",
     "output_type": "stream",
     "text": [
      "/home/erwin/.local/lib/python3.10/site-packages/transformers/tokenization_utils_base.py:1947: FutureWarning: Calling DistilBertTokenizer.from_pretrained() with the path to a single file or url is deprecated and won't be possible anymore in v5. Use a model identifier or the path to a directory instead.\n",
      "  warnings.warn(\n"
     ]
    }
   ],
   "source": [
    "model_folder_path = './sentiment_model/'\n",
    "config_path = os.path.join(model_folder_path, 'config.json')\n",
    "model_path = os.path.join(model_folder_path, 'pytorch_model.bin')\n",
    "tokenizer_path =  os.path.join(model_folder_path, 'tokenizer.json')\n",
    "\n",
    "# Load the model configuration\n",
    "config = DistilBertConfig.from_json_file(config_path)\n",
    "\n",
    "# Load the model weights\n",
    "model = DistilBertForSequenceClassification.from_pretrained(model_path, config=config)\n",
    "\n",
    "# Load the tokenizer\n",
    "tokenizer = DistilBertTokenizer.from_pretrained(tokenizer_path)\n",
    "\n",
    "# Tokenizer\n",
    "tokenizer = DistilBertTokenizer.from_pretrained('distilbert-base-uncased')\n",
    "\n",
    "# Define Prediction Function\n",
    "def predict_sentiment(text):\n",
    "    inputs = tokenizer(text, return_tensors='pt', max_length=512, truncation=True)\n",
    "    outputs = model(**inputs)\n",
    "    predicted_class = torch.argmax(outputs.logits).item()\n",
    "    return predicted_class"
   ]
  },
  {
   "cell_type": "code",
   "execution_count": 3,
   "metadata": {},
   "outputs": [
    {
     "name": "stdout",
     "output_type": "stream",
     "text": [
      "Text 1 Sentiment: 1\n",
      "Text 2 Sentiment: 0\n",
      "Text 3 Sentiment: 2\n"
     ]
    }
   ],
   "source": [
    "# Example Text for Prediction\n",
    "text1 = \"I really enjoyed this movie. It was fantastic!\"\n",
    "text2 = \"The movie was terrible. I didn't like it at all.\"\n",
    "text3 = \"it was okay\"\n",
    "\n",
    "# Make Predictions\n",
    "predicted_sentiment_1 = predict_sentiment(text1)\n",
    "predicted_sentiment_2 = predict_sentiment(text2)\n",
    "predicted_sentiment_3 = predict_sentiment(text3)\n",
    "\n",
    "# Print Predictions\n",
    "print(\"Text 1 Sentiment:\", predicted_sentiment_1)\n",
    "print(\"Text 2 Sentiment:\", predicted_sentiment_2)\n",
    "print(\"Text 3 Sentiment:\", predicted_sentiment_3)"
   ]
  },
  {
   "cell_type": "code",
   "execution_count": 22,
   "metadata": {},
   "outputs": [],
   "source": [
    "from transformers import DistilBertConfig, DistilBertTokenizer, DistilBertForSequenceClassification\n",
    "import torch\n",
    "\n",
    "# Define paths to model files\n",
    "regression_model_folder_path = './regression_model/'\n",
    "regression_config_path = os.path.join(regression_model_folder_path, 'config.json')\n",
    "regression_model_path = os.path.join(regression_model_folder_path, 'pytorch_model.bin')\n",
    "regression_tokenizer_path =  os.path.join(regression_model_folder_path, 'tokenizer.json')\n",
    "\n",
    "# Load the model configuration\n",
    "regression_config = DistilBertConfig.from_json_file(regression_config_path)\n",
    "\n",
    "# Check if CUDA is available\n",
    "device = torch.device('cuda' if torch.cuda.is_available() else 'cpu')\n",
    "\n",
    "# Load the regression model\n",
    "regression_model = DistilBertForSequenceClassification(regression_config)\n",
    "regression_model.load_state_dict(torch.load(regression_model_path, map_location=device))\n",
    "\n",
    "# Load the tokenizer\n",
    "regression_tokenizer = DistilBertTokenizer.from_pretrained(regression_tokenizer_path)\n",
    "\n",
    "# Tokenizer\n",
    "regression_tokenizer = DistilBertTokenizer.from_pretrained('distilbert-base-uncased')\n",
    "\n",
    "def regression_predict(text):\n",
    "    inputs = regression_tokenizer(text, return_tensors='pt', max_length=512, truncation=True, padding=True)\n",
    "    outputs = regression_model(**inputs)\n",
    "    predicted_value = outputs.logits.item()  # Directly use the logits for regression\n",
    "    return predicted_value"
   ]
  },
  {
   "cell_type": "code",
   "execution_count": 23,
   "metadata": {},
   "outputs": [
    {
     "name": "stdout",
     "output_type": "stream",
     "text": [
      "Text 1 score: 4.690764904022217\n",
      "Text 2 score: 1.3004730939865112\n",
      "Text 3 score: 2.5851552486419678\n"
     ]
    }
   ],
   "source": [
    "# Example Text for Prediction\n",
    "text1 = \"I really enjoyed this movie. It was fantastic!\"\n",
    "text2 = \"The movie was terrible. I didn't like it at all.\"\n",
    "text3 = \"it was very okay\"\n",
    "\n",
    "# Make Predictions\n",
    "predicted_sentiment_1 = regression_predict(text1)\n",
    "predicted_sentiment_2 = regression_predict(text2)\n",
    "predicted_sentiment_3 = regression_predict(text3)\n",
    "\n",
    "# Print Predictions\n",
    "print(\"Text 1 score:\", predicted_sentiment_1)\n",
    "print(\"Text 2 score:\", predicted_sentiment_2)\n",
    "print(\"Text 3 score:\", predicted_sentiment_3)"
   ]
  }
 ],
 "metadata": {
  "kernelspec": {
   "display_name": "Python 3",
   "language": "python",
   "name": "python3"
  },
  "language_info": {
   "codemirror_mode": {
    "name": "ipython",
    "version": 3
   },
   "file_extension": ".py",
   "mimetype": "text/x-python",
   "name": "python",
   "nbconvert_exporter": "python",
   "pygments_lexer": "ipython3",
   "version": "3.10.12"
  }
 },
 "nbformat": 4,
 "nbformat_minor": 2
}
