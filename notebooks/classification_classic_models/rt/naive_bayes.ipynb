{
 "cells": [
  {
   "cell_type": "code",
   "execution_count": 1,
   "metadata": {},
   "outputs": [],
   "source": [
    "import pandas as pd\n",
    "from sklearn.model_selection import train_test_split\n",
    "from sklearn.feature_extraction.text import TfidfVectorizer\n",
    "from sklearn.preprocessing import OrdinalEncoder\n",
    "from sklearn.naive_bayes import MultinomialNB  # Import the Multinomial Naive Bayes classifier"
   ]
  },
  {
   "cell_type": "code",
   "execution_count": 2,
   "metadata": {},
   "outputs": [],
   "source": [
    "from sklearn.naive_bayes import MultinomialNB  # Import the Multinomial Naive Bayes classifier\n",
    "\n",
    "def getAndTrainModel(X_train, y_train):\n",
    "    model = MultinomialNB() \n",
    "    model.fit(X_train, y_train)\n",
    "    return model "
   ]
  },
  {
   "cell_type": "code",
   "execution_count": 3,
   "metadata": {},
   "outputs": [
    {
     "name": "stdout",
     "output_type": "stream",
     "text": [
      "Total missing or empty 'review_detail' values in the dataset: 7\n"
     ]
    }
   ],
   "source": [
    "# Loading data from a CSV file\n",
    "df = pd.read_csv('balanced_rt_reviews_20240207-193333.csv')  # Adjust the filename to your actual file path\n",
    "\n",
    "# Count the number of NaN or empty strings in 'review_detail' for the entire dataset\n",
    "missing_or_empty_count = df['review_detail'].isna().sum() + (df['review_detail'] == '').sum()\n",
    "\n",
    "# Print the count\n",
    "print(\"Total missing or empty 'review_detail' values in the dataset:\", missing_or_empty_count)\n",
    "\n",
    "df = df.dropna(subset=['review_detail'])"
   ]
  },
  {
   "cell_type": "code",
   "execution_count": 4,
   "metadata": {},
   "outputs": [],
   "source": [
    "texts = df['review_detail'].values\n",
    "# Assuming 'top_critic' is boolean, convert directly to integer (1 for True, 0 for False)\n",
    "top_critics = df['top_critic'].astype(int).values\n",
    "\n",
    "# Vectorizing text data\n",
    "vectorizer = TfidfVectorizer()\n",
    "X = vectorizer.fit_transform(texts)\n",
    "\n",
    "# Splitting dataset\n",
    "X_train, X_test, y_train, y_test = train_test_split(X, top_critics, test_size=0.2, random_state=42)\n",
    "\n",
    "# Check if the test set is too small\n",
    "if X_test.shape[0] < 1:\n",
    "    raise ValueError(\"Test set is too small. Consider reducing the test_size parameter or adding more data.\")\n",
    "\n",
    "# Training a model using Multinomial Naive Bayes\n",
    "model = getAndTrainModel(X_train=X_train, y_train=y_train)"
   ]
  },
  {
   "cell_type": "code",
   "execution_count": 6,
   "metadata": {},
   "outputs": [
    {
     "name": "stdout",
     "output_type": "stream",
     "text": [
      "Accuracy: 0.5814834457155845\n",
      "ROC AUC score: 0.5811398644400633\n",
      "Classification Report:\n",
      "              precision    recall  f1-score   support\n",
      "\n",
      "       False       0.58      0.62      0.60      6660\n",
      "        True       0.58      0.54      0.56      6539\n",
      "\n",
      "    accuracy                           0.58     13199\n",
      "   macro avg       0.58      0.58      0.58     13199\n",
      "weighted avg       0.58      0.58      0.58     13199\n",
      "\n"
     ]
    }
   ],
   "source": [
    "from sklearn.metrics import roc_auc_score, accuracy_score, classification_report\n",
    "import numpy as np\n",
    "\n",
    "# Predicting\n",
    "predictions = model.predict(X_test)\n",
    "\n",
    "# Evaluating with accuracy\n",
    "accuracy = accuracy_score(y_test, predictions)\n",
    "print(\"Accuracy:\", accuracy)\n",
    "\n",
    "# Calculate and print MAE\n",
    "ra = roc_auc_score(y_test, predictions)\n",
    "print(\"ROC AUC score:\", ra)\n",
    "\n",
    "\n",
    "# Generating and printing the classification report\n",
    "report = classification_report(y_test, predictions, target_names=[\"False\",\"True\"])\n",
    "print(\"Classification Report:\")\n",
    "print(report)"
   ]
  }
 ],
 "metadata": {
  "kernelspec": {
   "display_name": "Python 3",
   "language": "python",
   "name": "python3"
  },
  "language_info": {
   "codemirror_mode": {
    "name": "ipython",
    "version": 3
   },
   "file_extension": ".py",
   "mimetype": "text/x-python",
   "name": "python",
   "nbconvert_exporter": "python",
   "pygments_lexer": "ipython3",
   "version": "3.12.1"
  }
 },
 "nbformat": 4,
 "nbformat_minor": 2
}
