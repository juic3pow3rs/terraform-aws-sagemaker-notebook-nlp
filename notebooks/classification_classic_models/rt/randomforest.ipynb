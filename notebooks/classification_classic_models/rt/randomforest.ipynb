{
 "cells": [
  {
   "cell_type": "code",
   "execution_count": 1,
   "metadata": {},
   "outputs": [],
   "source": [
    "# Random Forest\n",
    "\n",
    "import pandas as pd\n",
    "from sklearn.model_selection import train_test_split\n",
    "from sklearn.feature_extraction.text import TfidfVectorizer"
   ]
  },
  {
   "cell_type": "code",
   "execution_count": 2,
   "metadata": {},
   "outputs": [],
   "source": [
    "from sklearn.ensemble import RandomForestClassifier \n",
    "\n",
    "def getAndTrainModel(X_train, y_train):\n",
    "    model = RandomForestClassifier(n_estimators=100, random_state=42)\n",
    "    model.fit(X_train, y_train)\n",
    "    return model "
   ]
  },
  {
   "cell_type": "code",
   "execution_count": 3,
   "metadata": {},
   "outputs": [
    {
     "name": "stdout",
     "output_type": "stream",
     "text": [
      "Total missing or empty 'review_detail' values in the dataset: 7\n"
     ]
    }
   ],
   "source": [
    "# Loading data from a CSV file\n",
    "df = pd.read_csv('balanced_rt_reviews_20240207-193333.csv')  # Adjust the filename to your actual file path\n",
    "\n",
    "# Count the number of NaN or empty strings in 'review_detail' for the entire dataset\n",
    "missing_or_empty_count = df['review_detail'].isna().sum() + (df['review_detail'] == '').sum()\n",
    "\n",
    "# Print the count\n",
    "print(\"Total missing or empty 'review_detail' values in the dataset:\", missing_or_empty_count)\n",
    "\n",
    "df = df.dropna(subset=['review_detail'])"
   ]
  },
  {
   "cell_type": "code",
   "execution_count": 4,
   "metadata": {},
   "outputs": [],
   "source": [
    "# Preparing the input features and target variable\n",
    "texts = df['review_detail'].values\n",
    "y = df['top_critic'].astype(int).values  # Assuming 'top_critic' is boolean and directly using it as target\n",
    "\n",
    "# Vectorizing text data\n",
    "vectorizer = TfidfVectorizer()\n",
    "X = vectorizer.fit_transform(texts)\n",
    "\n",
    "# Splitting dataset\n",
    "X_train, X_test, y_train, y_test = train_test_split(X, y, test_size=0.2, random_state=42)\n",
    "\n",
    "# Training a model with Random Forest\n",
    "model = getAndTrainModel(X_train=X_train, y_train=y_train)"
   ]
  },
  {
   "cell_type": "code",
   "execution_count": 5,
   "metadata": {},
   "outputs": [
    {
     "name": "stdout",
     "output_type": "stream",
     "text": [
      "Accuracy: 0.5754981437987726\n",
      "ROC AUC score: 0.5759827268773591\n",
      "Classification Report:\n",
      "              precision    recall  f1-score   support\n",
      "\n",
      "       False       0.59      0.52      0.55      6660\n",
      "        True       0.56      0.63      0.59      6539\n",
      "\n",
      "    accuracy                           0.58     13199\n",
      "   macro avg       0.58      0.58      0.57     13199\n",
      "weighted avg       0.58      0.58      0.57     13199\n",
      "\n"
     ]
    }
   ],
   "source": [
    "from sklearn.metrics import roc_auc_score, accuracy_score, classification_report\n",
    "import numpy as np\n",
    "\n",
    "# Predicting\n",
    "predictions = model.predict(X_test)\n",
    "\n",
    "# Evaluating with accuracy\n",
    "accuracy = accuracy_score(y_test, predictions)\n",
    "print(\"Accuracy:\", accuracy)\n",
    "\n",
    "# Calculate and print MAE\n",
    "ra = roc_auc_score(y_test, predictions)\n",
    "print(\"ROC AUC score:\", ra)\n",
    "\n",
    "\n",
    "# Generating and printing the classification report\n",
    "report = classification_report(y_test, predictions, target_names=[\"False\",\"True\"])\n",
    "print(\"Classification Report:\")\n",
    "print(report)"
   ]
  }
 ],
 "metadata": {
  "kernelspec": {
   "display_name": "Python 3",
   "language": "python",
   "name": "python3"
  },
  "language_info": {
   "codemirror_mode": {
    "name": "ipython",
    "version": 3
   },
   "file_extension": ".py",
   "mimetype": "text/x-python",
   "name": "python",
   "nbconvert_exporter": "python",
   "pygments_lexer": "ipython3",
   "version": "3.12.1"
  }
 },
 "nbformat": 4,
 "nbformat_minor": 2
}
