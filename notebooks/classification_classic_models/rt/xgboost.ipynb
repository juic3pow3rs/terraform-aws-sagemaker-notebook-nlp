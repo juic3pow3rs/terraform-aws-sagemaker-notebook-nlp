{
 "cells": [
  {
   "cell_type": "code",
   "execution_count": 4,
   "metadata": {},
   "outputs": [],
   "source": [
    "import pandas as pd\n",
    "from sklearn.model_selection import train_test_split\n",
    "from sklearn.feature_extraction.text import TfidfVectorizer"
   ]
  },
  {
   "cell_type": "code",
   "execution_count": 5,
   "metadata": {},
   "outputs": [],
   "source": [
    "from xgboost import XGBClassifier\n",
    "\n",
    "def getAndTrainModel(X_train, y_train):\n",
    "    model = XGBClassifier(use_label_encoder=False, eval_metric='logloss')  # Use 'logloss' for binary classification\n",
    "    model.fit(X_train, y_train)\n",
    "    return model "
   ]
  },
  {
   "cell_type": "code",
   "execution_count": 6,
   "metadata": {},
   "outputs": [
    {
     "name": "stdout",
     "output_type": "stream",
     "text": [
      "Total missing or empty 'review_detail' values in the dataset: 7\n",
      "top_critic\n",
      "True     32998\n",
      "False    32995\n",
      "Name: count, dtype: int64\n"
     ]
    }
   ],
   "source": [
    "# Loading data from a CSV file\n",
    "df = pd.read_csv('balanced_rt_reviews_20240207-193333.csv')  # Adjust the filename to your actual file path\n",
    "\n",
    "# Count the number of NaN or empty strings in 'review_detail' for the entire dataset\n",
    "missing_or_empty_count = df['review_detail'].isna().sum() + (df['review_detail'] == '').sum()\n",
    "\n",
    "# Print the count\n",
    "print(\"Total missing or empty 'review_detail' values in the dataset:\", missing_or_empty_count)\n",
    "\n",
    "df = df.dropna(subset=['review_detail'])\n",
    "\n",
    "top_critic_counts = df['top_critic'].value_counts()\n",
    "\n",
    "print(top_critic_counts)"
   ]
  },
  {
   "cell_type": "code",
   "execution_count": 7,
   "metadata": {},
   "outputs": [],
   "source": [
    "texts = df['review_detail'].values\n",
    "top_critics = df['top_critic'].astype(int).values  # Convert boolean to integers (True/False to 1/0)\n",
    "\n",
    "# Vectorizing text data\n",
    "vectorizer = TfidfVectorizer()\n",
    "X = vectorizer.fit_transform(texts)\n",
    "\n",
    "# Splitting dataset\n",
    "X_train, X_test, y_train, y_test = train_test_split(X, top_critics, test_size=0.2, random_state=42)\n",
    "\n",
    "# Training a model with XGBoost\n",
    "model = getAndTrainModel(X_train=X_train, y_train=y_train)"
   ]
  },
  {
   "cell_type": "code",
   "execution_count": 8,
   "metadata": {},
   "outputs": [
    {
     "name": "stdout",
     "output_type": "stream",
     "text": [
      "Accuracy: 0.5635275399651489\n",
      "ROC AUC score: 0.5643778699941722\n",
      "Classification Report:\n",
      "              precision    recall  f1-score   support\n",
      "\n",
      "       False       0.58      0.47      0.52      6660\n",
      "        True       0.55      0.66      0.60      6539\n",
      "\n",
      "    accuracy                           0.56     13199\n",
      "   macro avg       0.57      0.56      0.56     13199\n",
      "weighted avg       0.57      0.56      0.56     13199\n",
      "\n"
     ]
    }
   ],
   "source": [
    "from sklearn.metrics import roc_auc_score, accuracy_score, classification_report\n",
    "import numpy as np\n",
    "\n",
    "# Predicting\n",
    "predictions = model.predict(X_test)\n",
    "\n",
    "# Evaluating with accuracy\n",
    "accuracy = accuracy_score(y_test, predictions)\n",
    "print(\"Accuracy:\", accuracy)\n",
    "\n",
    "# Calculate and print MAE\n",
    "ra = roc_auc_score(y_test, predictions)\n",
    "print(\"ROC AUC score:\", ra)\n",
    "\n",
    "\n",
    "# Generating and printing the classification report\n",
    "report = classification_report(y_test, predictions, target_names=[\"False\",\"True\"])\n",
    "print(\"Classification Report:\")\n",
    "print(report)"
   ]
  }
 ],
 "metadata": {
  "kernelspec": {
   "display_name": "Python 3",
   "language": "python",
   "name": "python3"
  },
  "language_info": {
   "codemirror_mode": {
    "name": "ipython",
    "version": 3
   },
   "file_extension": ".py",
   "mimetype": "text/x-python",
   "name": "python",
   "nbconvert_exporter": "python",
   "pygments_lexer": "ipython3",
   "version": "3.12.1"
  }
 },
 "nbformat": 4,
 "nbformat_minor": 2
}
