{
 "cells": [
  {
   "cell_type": "markdown",
   "metadata": {},
   "source": [
    "#IMDB MODEL TRAINING - CUSTOM LSTM"
   ]
  },
  {
   "cell_type": "code",
   "execution_count": 44,
   "metadata": {},
   "outputs": [],
   "source": [
    "import pandas as pd\n",
    "import seaborn as sns\n",
    "import matplotlib.pyplot as plt\n",
    "import numpy as np\n",
    "import random2 as rn\n",
    "\n",
    "from scipy import stats\n",
    "from keras.models import Sequential\n",
    "from keras.layers import Embedding, LSTM, Dropout, Dense\n",
    "from sklearn.model_selection import train_test_split\n",
    "from keras.preprocessing.sequence import pad_sequences\n",
    "from keras.preprocessing.text import Tokenizer"
   ]
  },
  {
   "cell_type": "code",
   "execution_count": 45,
   "metadata": {},
   "outputs": [
    {
     "data": {
      "text/html": [
       "<div>\n",
       "<style scoped>\n",
       "    .dataframe tbody tr th:only-of-type {\n",
       "        vertical-align: middle;\n",
       "    }\n",
       "\n",
       "    .dataframe tbody tr th {\n",
       "        vertical-align: top;\n",
       "    }\n",
       "\n",
       "    .dataframe thead th {\n",
       "        text-align: right;\n",
       "    }\n",
       "</style>\n",
       "<table border=\"1\" class=\"dataframe\">\n",
       "  <thead>\n",
       "    <tr style=\"text-align: right;\">\n",
       "      <th></th>\n",
       "      <th>Unnamed: 0</th>\n",
       "      <th>rating</th>\n",
       "      <th>review_detail</th>\n",
       "      <th>word_count</th>\n",
       "      <th>sentiment</th>\n",
       "    </tr>\n",
       "  </thead>\n",
       "  <tbody>\n",
       "    <tr>\n",
       "      <th>0</th>\n",
       "      <td>0</td>\n",
       "      <td>4</td>\n",
       "      <td>seeing tarantinos kill bill vol 1 got watch vo...</td>\n",
       "      <td>147</td>\n",
       "      <td>1</td>\n",
       "    </tr>\n",
       "    <tr>\n",
       "      <th>1</th>\n",
       "      <td>2</td>\n",
       "      <td>5</td>\n",
       "      <td>critics prove morons movie definitely best ive...</td>\n",
       "      <td>297</td>\n",
       "      <td>1</td>\n",
       "    </tr>\n",
       "    <tr>\n",
       "      <th>2</th>\n",
       "      <td>3</td>\n",
       "      <td>2</td>\n",
       "      <td>film done many times already guys confess true...</td>\n",
       "      <td>129</td>\n",
       "      <td>0</td>\n",
       "    </tr>\n",
       "    <tr>\n",
       "      <th>3</th>\n",
       "      <td>4</td>\n",
       "      <td>5</td>\n",
       "      <td>chris farley one favorite comedians forever mi...</td>\n",
       "      <td>119</td>\n",
       "      <td>1</td>\n",
       "    </tr>\n",
       "    <tr>\n",
       "      <th>4</th>\n",
       "      <td>5</td>\n",
       "      <td>5</td>\n",
       "      <td>love anime series complaint lasted one seasont...</td>\n",
       "      <td>247</td>\n",
       "      <td>1</td>\n",
       "    </tr>\n",
       "  </tbody>\n",
       "</table>\n",
       "</div>"
      ],
      "text/plain": [
       "   Unnamed: 0  rating                                      review_detail  \\\n",
       "0           0       4  seeing tarantinos kill bill vol 1 got watch vo...   \n",
       "1           2       5  critics prove morons movie definitely best ive...   \n",
       "2           3       2  film done many times already guys confess true...   \n",
       "3           4       5  chris farley one favorite comedians forever mi...   \n",
       "4           5       5  love anime series complaint lasted one seasont...   \n",
       "\n",
       "   word_count  sentiment  \n",
       "0         147          1  \n",
       "1         297          1  \n",
       "2         129          0  \n",
       "3         119          1  \n",
       "4         247          1  "
      ]
     },
     "execution_count": 45,
     "metadata": {},
     "output_type": "execute_result"
    }
   ],
   "source": [
    "df_imdb = pd.read_csv('/home/Projs/nlp-training/data/nlp-bronze/imdb/sample.csv')\n",
    "df_imdb.head()"
   ]
  },
  {
   "cell_type": "code",
   "execution_count": 46,
   "metadata": {},
   "outputs": [
    {
     "data": {
      "text/html": [
       "<div>\n",
       "<style scoped>\n",
       "    .dataframe tbody tr th:only-of-type {\n",
       "        vertical-align: middle;\n",
       "    }\n",
       "\n",
       "    .dataframe tbody tr th {\n",
       "        vertical-align: top;\n",
       "    }\n",
       "\n",
       "    .dataframe thead th {\n",
       "        text-align: right;\n",
       "    }\n",
       "</style>\n",
       "<table border=\"1\" class=\"dataframe\">\n",
       "  <thead>\n",
       "    <tr style=\"text-align: right;\">\n",
       "      <th></th>\n",
       "      <th>Unnamed: 0</th>\n",
       "      <th>rating</th>\n",
       "      <th>review_detail</th>\n",
       "      <th>word_count</th>\n",
       "      <th>sentiment</th>\n",
       "    </tr>\n",
       "  </thead>\n",
       "  <tbody>\n",
       "    <tr>\n",
       "      <th>54629</th>\n",
       "      <td>62379</td>\n",
       "      <td>2</td>\n",
       "      <td>yeah spoilers cominglook movie actually buying...</td>\n",
       "      <td>239</td>\n",
       "      <td>0</td>\n",
       "    </tr>\n",
       "    <tr>\n",
       "      <th>7001</th>\n",
       "      <td>7872</td>\n",
       "      <td>1</td>\n",
       "      <td>remember getting cheap santo gold medallions i...</td>\n",
       "      <td>149</td>\n",
       "      <td>0</td>\n",
       "    </tr>\n",
       "    <tr>\n",
       "      <th>4110</th>\n",
       "      <td>4580</td>\n",
       "      <td>1</td>\n",
       "      <td>much potential movie sucked saw checked rating...</td>\n",
       "      <td>172</td>\n",
       "      <td>0</td>\n",
       "    </tr>\n",
       "    <tr>\n",
       "      <th>73817</th>\n",
       "      <td>84151</td>\n",
       "      <td>1</td>\n",
       "      <td>saw 12 film finally ill stand complete disagre...</td>\n",
       "      <td>880</td>\n",
       "      <td>0</td>\n",
       "    </tr>\n",
       "    <tr>\n",
       "      <th>35071</th>\n",
       "      <td>40003</td>\n",
       "      <td>1</td>\n",
       "      <td>well 1000 years future finally breached travel...</td>\n",
       "      <td>149</td>\n",
       "      <td>0</td>\n",
       "    </tr>\n",
       "  </tbody>\n",
       "</table>\n",
       "</div>"
      ],
      "text/plain": [
       "       Unnamed: 0  rating                                      review_detail  \\\n",
       "54629       62379       2  yeah spoilers cominglook movie actually buying...   \n",
       "7001         7872       1  remember getting cheap santo gold medallions i...   \n",
       "4110         4580       1  much potential movie sucked saw checked rating...   \n",
       "73817       84151       1  saw 12 film finally ill stand complete disagre...   \n",
       "35071       40003       1  well 1000 years future finally breached travel...   \n",
       "\n",
       "       word_count  sentiment  \n",
       "54629         239          0  \n",
       "7001          149          0  \n",
       "4110          172          0  \n",
       "73817         880          0  \n",
       "35071         149          0  "
      ]
     },
     "execution_count": 46,
     "metadata": {},
     "output_type": "execute_result"
    }
   ],
   "source": [
    "sample_size = 18000  # Desired sample size of each category\n",
    "\n",
    "# Sample 18k instances of each category\n",
    "df_imdb = pd.concat([\n",
    "    df_imdb[df_imdb['sentiment'] == 0].sample(n=sample_size, random_state=42),\n",
    "    df_imdb[df_imdb['sentiment'] == 1].sample(n=sample_size, random_state=42)\n",
    "])\n",
    "\n",
    "df_imdb.head()"
   ]
  },
  {
   "cell_type": "code",
   "execution_count": 47,
   "metadata": {},
   "outputs": [
    {
     "data": {
      "image/png": "[encoded data removed]",
      "text/plain": [
       "<Figure size 640x480 with 1 Axes>"
      ]
     },
     "metadata": {},
     "output_type": "display_data"
    }
   ],
   "source": [
    "with sns.axes_style(\"darkgrid\"):\n",
    "    df_imdb['sentiment'].value_counts().plot.bar(color=['darkblue', 'r'], rot=0, fontsize='large')\n",
    "    plt.show()"
   ]
  },
  {
   "cell_type": "code",
   "execution_count": 48,
   "metadata": {},
   "outputs": [
    {
     "data": {
      "image/png": "[encoded data removed]",
      "text/plain": [
       "<Figure size 1000x600 with 1 Axes>"
      ]
     },
     "metadata": {},
     "output_type": "display_data"
    }
   ],
   "source": [
    "train_rev, test_rev, train_sent, test_sent = train_test_split(df_imdb['review_detail'], df_imdb['sentiment'], test_size=0.1, random_state=42)\n",
    "\n",
    "dict_size = 35000\n",
    "tokenizer = Tokenizer(num_words=dict_size)\n",
    "tokenizer.fit_on_texts(df_imdb['review_detail'])\n",
    "\n",
    "train_rev_tokens = tokenizer.texts_to_sequences(train_rev)\n",
    "test_rev_tokens = tokenizer.texts_to_sequences(test_rev)\n",
    "seq_lengths =  np.array([len(sequence) for sequence in train_rev_tokens])\n",
    "\n",
    "upper_bound = int(np.mean(seq_lengths) + 2 * np.std(seq_lengths))\n",
    "percentage = stats.percentileofscore(seq_lengths, upper_bound)\n",
    "\n",
    "with sns.axes_style(\"darkgrid\"):\n",
    "    _, hist = plt.subplots(figsize=(10,6))\n",
    "    hist.hist(seq_lengths[seq_lengths < 2*upper_bound], color='darkblue', bins=40, rwidth=0.7)\n",
    "    hist.axvline(np.mean(seq_lengths), color='darkorange', linestyle='--', label='Mean value')\n",
    "    hist.axvline(upper_bound, color='r', linestyle='--', label='Upper bound')\n",
    "\n",
    "    plt.xlabel('Length of sequences in \"train_rev_tokens\"', size='large')\n",
    "    plt.ylabel('Number of samples', size='large')\n",
    "    plt.text(upper_bound, 0, 'test')\n",
    "    plt.legend(fontsize='large', facecolor='palegreen')\n",
    "    plt.xticks(rotation=30)\n",
    "    plt.show()"
   ]
  },
  {
   "cell_type": "code",
   "execution_count": 49,
   "metadata": {},
   "outputs": [],
   "source": [
    "train_rev_pad = pad_sequences(train_rev_tokens, maxlen=upper_bound)\n",
    "test_rev_pad = pad_sequences(test_rev_tokens, maxlen=upper_bound)\n",
    "\n",
    "idx_pad = rn.randint(0, len(train_rev_pad)-1)\n",
    "\n",
    "output_dim = 14\n",
    "units_lstm = 16\n",
    "r = 0.8\n",
    "\n",
    "model = Sequential()\n",
    "model.add(Embedding(input_dim=dict_size, output_dim=output_dim, input_length=upper_bound))\n",
    "model.add(LSTM(units_lstm))\n",
    "model.add(Dropout(r))\n",
    "model.add(Dense(1, activation='sigmoid'))"
   ]
  },
  {
   "cell_type": "code",
   "execution_count": 50,
   "metadata": {},
   "outputs": [
    {
     "name": "stdout",
     "output_type": "stream",
     "text": [
      "Model: \"sequential_1\"\n",
      "_________________________________________________________________\n",
      " Layer (type)                Output Shape              Param #   \n",
      "=================================================================\n",
      " embedding_1 (Embedding)     (None, 283, 14)           490000    \n",
      "                                                                 \n",
      " lstm_1 (LSTM)               (None, 16)                1984      \n",
      "                                                                 \n",
      " dropout_1 (Dropout)         (None, 16)                0         \n",
      "                                                                 \n",
      " dense_1 (Dense)             (None, 1)                 17        \n",
      "                                                                 \n",
      "=================================================================\n",
      "Total params: 492001 (1.88 MB)\n",
      "Trainable params: 492001 (1.88 MB)\n",
      "Non-trainable params: 0 (0.00 Byte)\n",
      "_________________________________________________________________\n"
     ]
    }
   ],
   "source": [
    "model.summary()"
   ]
  },
  {
   "cell_type": "code",
   "execution_count": 51,
   "metadata": {},
   "outputs": [],
   "source": [
    "model.compile(optimizer='adam', loss='bce', metrics='accuracy')"
   ]
  },
  {
   "cell_type": "code",
   "execution_count": 52,
   "metadata": {},
   "outputs": [
    {
     "name": "stdout",
     "output_type": "stream",
     "text": [
      "Epoch 1/5\n",
      "76/76 [==============================] - 13s 147ms/step - loss: 0.6757 - accuracy: 0.5822 - val_loss: 0.5616 - val_accuracy: 0.7827\n",
      "Epoch 2/5\n",
      "76/76 [==============================] - 10s 136ms/step - loss: 0.5059 - accuracy: 0.8029 - val_loss: 0.4023 - val_accuracy: 0.8500\n",
      "Epoch 3/5\n",
      "76/76 [==============================] - 11s 141ms/step - loss: 0.3579 - accuracy: 0.8745 - val_loss: 0.3174 - val_accuracy: 0.8707\n",
      "Epoch 4/5\n",
      "76/76 [==============================] - 11s 142ms/step - loss: 0.2758 - accuracy: 0.9171 - val_loss: 0.3129 - val_accuracy: 0.8759\n",
      "Epoch 5/5\n",
      "76/76 [==============================] - 11s 148ms/step - loss: 0.2203 - accuracy: 0.9397 - val_loss: 0.3156 - val_accuracy: 0.8722\n"
     ]
    }
   ],
   "source": [
    "validation_split = 0.1\n",
    "batch_size = 384\n",
    "epochs = 3\n",
    "\n",
    "fitted = model.fit(train_rev_pad, train_sent, validation_split=validation_split,\n",
    "                   batch_size=batch_size, epochs=epochs, shuffle=True)"
   ]
  }
 ],
 "metadata": {
  "kernelspec": {
   "display_name": ".venv",
   "language": "python",
   "name": "python3"
  },
  "language_info": {
   "codemirror_mode": {
    "name": "ipython",
    "version": 3
   },
   "file_extension": ".py",
   "mimetype": "text/x-python",
   "name": "python",
   "nbconvert_exporter": "python",
   "pygments_lexer": "ipython3",
   "version": "3.10.12"
  }
 },
 "nbformat": 4,
 "nbformat_minor": 2
}
