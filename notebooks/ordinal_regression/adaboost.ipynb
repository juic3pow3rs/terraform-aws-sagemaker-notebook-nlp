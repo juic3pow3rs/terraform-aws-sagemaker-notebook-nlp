{
 "cells": [
  {
   "cell_type": "code",
   "execution_count": 1,
   "metadata": {},
   "outputs": [],
   "source": [
    "import pandas as pd\n",
    "from sklearn.model_selection import train_test_split\n",
    "from sklearn.feature_extraction.text import TfidfVectorizer\n",
    "from sklearn.preprocessing import OrdinalEncoder\n",
    "from sklearn.ensemble import AdaBoostClassifier"
   ]
  },
  {
   "cell_type": "code",
   "execution_count": 2,
   "metadata": {},
   "outputs": [
    {
     "name": "stdout",
     "output_type": "stream",
     "text": [
      "Missing or empty 'review_detail' values per sentiment category:\n",
      "sentiment\n",
      "NEGATIVE    1\n",
      "dtype: int64\n"
     ]
    }
   ],
   "source": [
    "# Loading data from a CSV file\n",
    "df = pd.read_csv('balanced_imdb_reviews_20240205-173555.csv')  # Replace with your actual file path\n",
    "\n",
    "# Handling missing or empty strings in 'review_detail'\n",
    "print(\"Missing or empty 'review_detail' values per sentiment category:\")\n",
    "missing_or_empty_count = df[df['review_detail'].isna() | (df['review_detail'] == '')].groupby('sentiment').size()\n",
    "print(missing_or_empty_count)\n",
    "df['review_detail'] = df['review_detail'].fillna('')  # Fill NaN values"
   ]
  },
  {
   "cell_type": "code",
   "execution_count": 3,
   "metadata": {},
   "outputs": [
    {
     "name": "stderr",
     "output_type": "stream",
     "text": [
      "D:\\Python312\\Lib\\site-packages\\sklearn\\ensemble\\_weight_boosting.py:519: FutureWarning: The SAMME.R algorithm (the default) is deprecated and will be removed in 1.6. Use the SAMME algorithm to circumvent this warning.\n",
      "  warnings.warn(\n"
     ]
    }
   ],
   "source": [
    "# Encoding ordinal categories\n",
    "encoder = OrdinalEncoder(categories=[[\"NEGATIVE\", \"MEDIUM\", \"POSITIVE\"]])\n",
    "y = encoder.fit_transform(df['sentiment'].values.reshape(-1, 1)).flatten()\n",
    "\n",
    "# Vectorizing text data\n",
    "vectorizer = TfidfVectorizer()\n",
    "X = vectorizer.fit_transform(df['review_detail'].values)\n",
    "\n",
    "# Splitting dataset\n",
    "X_train, X_test, y_train, y_test = train_test_split(X, y, test_size=0.2, random_state=42)\n",
    "\n",
    "# Training a model with AdaBoost\n",
    "model = AdaBoostClassifier(n_estimators=100, random_state=42)\n",
    "model.fit(X_train, y_train)"
   ]
  },
  {
   "cell_type": "code",
   "execution_count": 7,
   "metadata": {},
   "outputs": [
    {
     "name": "stdout",
     "output_type": "stream",
     "text": [
      "Accuracy: 0.6876767676767677\n",
      "Mean Absolute Error (MAE): 0.366010101010101\n",
      "Root Mean Squared Error (RMSE): 0.6880289517046781\n",
      "Classification Report:\n",
      "              precision    recall  f1-score   support\n",
      "\n",
      "    NEGATIVE       0.75      0.74      0.74      6714\n",
      "      MEDIUM       0.62      0.59      0.60      6590\n",
      "    POSITIVE       0.70      0.73      0.71      6496\n",
      "\n",
      "    accuracy                           0.69     19800\n",
      "   macro avg       0.69      0.69      0.69     19800\n",
      "weighted avg       0.69      0.69      0.69     19800\n",
      "\n"
     ]
    }
   ],
   "source": [
    "from sklearn.metrics import mean_absolute_error, mean_squared_error, accuracy_score, classification_report\n",
    "import numpy as np\n",
    "\n",
    "# Predicting\n",
    "predictions = model.predict(X_test)\n",
    "\n",
    "# Evaluating with accuracy\n",
    "accuracy = accuracy_score(y_test, predictions)\n",
    "print(\"Accuracy:\", accuracy)\n",
    "\n",
    "# Calculate and print MAE\n",
    "mae = mean_absolute_error(y_test, predictions)\n",
    "print(\"Mean Absolute Error (MAE):\", mae)\n",
    "\n",
    "# Calculate and print RMSE\n",
    "rmse = np.sqrt(mean_squared_error(y_test, predictions))\n",
    "print(\"Root Mean Squared Error (RMSE):\", rmse)\n",
    "\n",
    "# Generating and printing the classification report\n",
    "report = classification_report(y_test, predictions, target_names=[\"NEGATIVE\", \"MEDIUM\", \"POSITIVE\"])\n",
    "print(\"Classification Report:\")\n",
    "print(report)"
   ]
  },
  {
   "cell_type": "code",
   "execution_count": 8,
   "metadata": {},
   "outputs": [
    {
     "name": "stdout",
     "output_type": "stream",
     "text": [
      "Actual Sentiment: POSITIVE\n",
      "Predicted Sentiment: ['NEGATIVE']\n",
      "Accuracy for Custom String: 0\n"
     ]
    }
   ],
   "source": [
    "# Custom string for prediction\n",
    "custom_text = \"not bad. i really liked the movie, altough the ass of the actress was too small\"\n",
    "\n",
    "# Preprocess the custom string\n",
    "custom_text_vectorized = vectorizer.transform([custom_text])\n",
    "\n",
    "# Predict using the trained model\n",
    "custom_prediction = model.predict(custom_text_vectorized)\n",
    "\n",
    "# Decode the predicted sentiment\n",
    "predicted_sentiment = encoder.inverse_transform([custom_prediction])[0]\n",
    "\n",
    "# Optionally, if you have the actual sentiment for the custom string:\n",
    "actual_sentiment = \"POSITIVE\"  # Replace with the actual sentiment for your custom string\n",
    "\n",
    "# Calculate accuracy for the custom prediction (if you have the actual sentiment)\n",
    "if actual_sentiment:\n",
    "    accuracy_custom = 1 if custom_prediction == encoder.transform([[actual_sentiment]])[0] else 0\n",
    "    print(f\"Actual Sentiment: {actual_sentiment}\")\n",
    "    print(f\"Predicted Sentiment: {predicted_sentiment}\")\n",
    "    print(f\"Accuracy for Custom String: {accuracy_custom}\")\n",
    "else:\n",
    "    print(f\"Predicted Sentiment: {predicted_sentiment}\")\n",
    "    print(\"Actual sentiment not provided, cannot calculate accuracy.\")"
   ]
  }
 ],
 "metadata": {
  "kernelspec": {
   "display_name": "Python 3",
   "language": "python",
   "name": "python3"
  },
  "language_info": {
   "codemirror_mode": {
    "name": "ipython",
    "version": 3
   },
   "file_extension": ".py",
   "mimetype": "text/x-python",
   "name": "python",
   "nbconvert_exporter": "python",
   "pygments_lexer": "ipython3",
   "version": "3.12.1"
  }
 },
 "nbformat": 4,
 "nbformat_minor": 2
}
