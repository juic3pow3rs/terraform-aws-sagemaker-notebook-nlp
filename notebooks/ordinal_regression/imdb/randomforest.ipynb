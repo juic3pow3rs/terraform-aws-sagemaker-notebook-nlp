{
 "cells": [
  {
   "cell_type": "code",
   "execution_count": null,
   "metadata": {},
   "outputs": [],
   "source": [
    "# Random Forest\n",
    "\n",
    "import pandas as pd\n",
    "from sklearn.model_selection import train_test_split\n",
    "from sklearn.feature_extraction.text import TfidfVectorizer\n",
    "from sklearn.metrics import accuracy_score\n",
    "from sklearn.preprocessing import OrdinalEncoder\n",
    "from sklearn.ensemble import RandomForestClassifier \n",
    "from sklearn.metrics import classification_report"
   ]
  },
  {
   "cell_type": "code",
   "execution_count": null,
   "metadata": {},
   "outputs": [],
   "source": [
    "# Loading data from a CSV file\n",
    "df = pd.read_csv('balanced_imdb_reviews_20240205-173555.csv')  # Replace with your actual file path\n",
    "\n",
    "# Handling missing or empty strings in 'review_detail'\n",
    "print(\"Missing or empty 'review_detail' values per sentiment category:\")\n",
    "missing_or_empty_count = df[df['review_detail'].isna() | (df['review_detail'] == '')].groupby('sentiment').size()\n",
    "print(missing_or_empty_count)\n",
    "df['review_detail'] = df['review_detail'].fillna('')  # Fill NaN values\n",
    "\n",
    "# Encoding and vectorizing\n",
    "texts = df['review_detail'].values\n",
    "sentiments = df['sentiment'].values\n",
    "encoder = OrdinalEncoder(categories=[[\"NEGATIVE\", \"MEDIUM\", \"POSITIVE\"]])\n",
    "y = encoder.fit_transform(sentiments.reshape(-1, 1)).flatten()  # Reshape needed for a single feature\n",
    "\n",
    "vectorizer = TfidfVectorizer()\n",
    "X = vectorizer.fit_transform(texts)\n",
    "\n",
    "# Splitting dataset\n",
    "X_train, X_test, y_train, y_test = train_test_split(X, y, test_size=0.2, random_state=42)\n",
    "\n",
    "# Training a model with Random Forest\n",
    "model = RandomForestClassifier(n_estimators=100, random_state=42)  # Initialize Random Forest\n",
    "model.fit(X_train, y_train)"
   ]
  },
  {
   "cell_type": "code",
   "execution_count": 5,
   "metadata": {},
   "outputs": [
    {
     "name": "stdout",
     "output_type": "stream",
     "text": [
      "Accuracy: 0.6495959595959596\n",
      "Mean Absolute Error (MAE): 0.40954545454545455\n",
      "Root Mean Squared Error (RMSE): 0.7265179163849181\n",
      "Classification Report:\n",
      "              precision    recall  f1-score   support\n",
      "\n",
      "    NEGATIVE       0.69      0.75      0.72      6714\n",
      "      MEDIUM       0.57      0.54      0.55      6590\n",
      "    POSITIVE       0.69      0.66      0.68      6496\n",
      "\n",
      "    accuracy                           0.65     19800\n",
      "   macro avg       0.65      0.65      0.65     19800\n",
      "weighted avg       0.65      0.65      0.65     19800\n",
      "\n"
     ]
    }
   ],
   "source": [
    "from sklearn.metrics import mean_absolute_error, mean_squared_error, accuracy_score, classification_report\n",
    "import numpy as np\n",
    "\n",
    "# Predicting\n",
    "predictions = model.predict(X_test)\n",
    "\n",
    "# Evaluating with accuracy\n",
    "accuracy = accuracy_score(y_test, predictions)\n",
    "print(\"Accuracy:\", accuracy)\n",
    "\n",
    "# Calculate and print MAE\n",
    "mae = mean_absolute_error(y_test, predictions)\n",
    "print(\"Mean Absolute Error (MAE):\", mae)\n",
    "\n",
    "# Calculate and print RMSE\n",
    "rmse = np.sqrt(mean_squared_error(y_test, predictions))\n",
    "print(\"Root Mean Squared Error (RMSE):\", rmse)\n",
    "\n",
    "# Generating and printing the classification report\n",
    "report = classification_report(y_test, predictions, target_names=[\"NEGATIVE\", \"MEDIUM\", \"POSITIVE\"])\n",
    "print(\"Classification Report:\")\n",
    "print(report)"
   ]
  }
 ],
 "metadata": {
  "kernelspec": {
   "display_name": "Python 3",
   "language": "python",
   "name": "python3"
  },
  "language_info": {
   "codemirror_mode": {
    "name": "ipython",
    "version": 3
   },
   "file_extension": ".py",
   "mimetype": "text/x-python",
   "name": "python",
   "nbconvert_exporter": "python",
   "pygments_lexer": "ipython3",
   "version": "3.12.1"
  }
 },
 "nbformat": 4,
 "nbformat_minor": 2
}
