{
 "cells": [
  {
   "cell_type": "code",
   "execution_count": 1,
   "metadata": {},
   "outputs": [],
   "source": [
    "import pandas as pd\n",
    "from sklearn.model_selection import train_test_split\n",
    "from sklearn.feature_extraction.text import TfidfVectorizer\n",
    "from sklearn.preprocessing import OrdinalEncoder\n",
    "from sklearn.svm import SVC  # Import the Support Vector Classifier"
   ]
  },
  {
   "cell_type": "code",
   "execution_count": 2,
   "metadata": {},
   "outputs": [
    {
     "name": "stdout",
     "output_type": "stream",
     "text": [
      "Missing or empty 'review_detail' values per sentiment category:\n",
      "sentiment\n",
      "NEGATIVE    1\n",
      "dtype: int64\n",
      "New dataset size: (15000, 5)\n",
      "sentiment\n",
      "POSITIVE    5000\n",
      "MEDIUM      5000\n",
      "NEGATIVE    5000\n",
      "Name: count, dtype: int64\n"
     ]
    }
   ],
   "source": [
    "# Loading data from a CSV file\n",
    "df = pd.read_csv('balanced_imdb_reviews_20240205-173555.csv')  # Replace with your actual file path\n",
    "\n",
    "# Handling missing or empty strings in 'review_detail'\n",
    "print(\"Missing or empty 'review_detail' values per sentiment category:\")\n",
    "missing_or_empty_count = df[df['review_detail'].isna() | (df['review_detail'] == '')].groupby('sentiment').size()\n",
    "print(missing_or_empty_count)\n",
    "df['review_detail'] = df['review_detail'].fillna('')  # Fill NaN values\n",
    "\n",
    "# Downsampling to 5,000 samples per sentiment category\n",
    "sampled_df = pd.DataFrame()  # Initialize an empty dataframe\n",
    "for sentiment in df['sentiment'].unique():\n",
    "    sampled_df = pd.concat([sampled_df, df[df['sentiment'] == sentiment].sample(n=5000, random_state=42)])\n",
    "\n",
    "# Resetting the index of the sampled dataframe\n",
    "sampled_df = sampled_df.reset_index(drop=True)\n",
    "\n",
    "print(f\"New dataset size: {sampled_df.shape}\")\n",
    "print(sampled_df['sentiment'].value_counts())\n",
    "\n"
   ]
  },
  {
   "cell_type": "code",
   "execution_count": 3,
   "metadata": {},
   "outputs": [],
   "source": [
    "texts = sampled_df['review_detail'].values\n",
    "sentiments = sampled_df['sentiment'].values\n",
    "\n",
    "# Encoding ordinal categories\n",
    "encoder = OrdinalEncoder(categories=[[\"NEGATIVE\", \"MEDIUM\", \"POSITIVE\"]])\n",
    "y = encoder.fit_transform(sentiments.reshape(-1, 1)).flatten()  # Reshape is needed for a single feature\n",
    "\n",
    "# Vectorizing text data\n",
    "vectorizer = TfidfVectorizer()\n",
    "X = vectorizer.fit_transform(texts)\n",
    "\n",
    "# Splitting dataset\n",
    "X_train, X_test, y_train, y_test = train_test_split(X, y, test_size=0.2, random_state=42)\n",
    "\n",
    "# Check if the test set is too small\n",
    "if X_test.shape[0] < 1:\n",
    "    raise ValueError(\"Test set is too small. Consider reducing the test_size parameter or adding more data.\")\n",
    "\n",
    "# Training a model using SVM\n",
    "model = SVC(kernel='linear', C=1.0, probability=True, random_state=42)  # Initialize the SVM model\n",
    "model.fit(X_train, y_train)"
   ]
  },
  {
   "cell_type": "code",
   "execution_count": null,
   "metadata": {},
   "outputs": [],
   "source": [
    "from sklearn.metrics import mean_absolute_error, mean_squared_error, accuracy_score, classification_report\n",
    "import numpy as np\n",
    "\n",
    "# Predicting\n",
    "predictions = model.predict(X_test)\n",
    "\n",
    "# Evaluating with accuracy\n",
    "accuracy = accuracy_score(y_test, predictions)\n",
    "print(\"Accuracy:\", accuracy)\n",
    "\n",
    "# Calculate and print MAE\n",
    "mae = mean_absolute_error(y_test, predictions)\n",
    "print(\"Mean Absolute Error (MAE):\", mae)\n",
    "\n",
    "# Calculate and print RMSE\n",
    "rmse = np.sqrt(mean_squared_error(y_test, predictions))\n",
    "print(\"Root Mean Squared Error (RMSE):\", rmse)\n",
    "\n",
    "# Generating and printing the classification report\n",
    "report = classification_report(y_test, predictions, target_names=[\"NEGATIVE\", \"MEDIUM\", \"POSITIVE\"])\n",
    "print(\"Classification Report:\")\n",
    "print(report)"
   ]
  }
 ],
 "metadata": {
  "kernelspec": {
   "display_name": "Python 3",
   "language": "python",
   "name": "python3"
  },
  "language_info": {
   "codemirror_mode": {
    "name": "ipython",
    "version": 3
   },
   "file_extension": ".py",
   "mimetype": "text/x-python",
   "name": "python",
   "nbconvert_exporter": "python",
   "pygments_lexer": "ipython3",
   "version": "3.12.1"
  }
 },
 "nbformat": 4,
 "nbformat_minor": 2
}
